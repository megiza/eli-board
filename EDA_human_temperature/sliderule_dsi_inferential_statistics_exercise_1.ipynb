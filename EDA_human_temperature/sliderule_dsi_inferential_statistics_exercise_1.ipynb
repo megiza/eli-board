{
 "cells": [
  {
   "cell_type": "markdown",
   "metadata": {},
   "source": [
    "# What is the True Normal Human Body Temperature? \n",
    "\n",
    "#### Background\n",
    "\n",
    "The mean normal body temperature was held to be 37$^{\\circ}$C or 98.6$^{\\circ}$F for more than 120 years since it was first conceptualized and reported by Carl Wunderlich in a famous 1868 book. But, is this value statistically correct?"
   ]
  },
  {
   "cell_type": "markdown",
   "metadata": {},
   "source": []
  },
  {
   "cell_type": "code",
   "execution_count": 1,
   "metadata": {},
   "outputs": [],
   "source": [
    "import pandas as pd\n",
    "import matplotlib.pyplot as plt \n",
    "import numpy as np"
   ]
  },
  {
   "cell_type": "code",
   "execution_count": 2,
   "metadata": {},
   "outputs": [
    {
     "name": "stdout",
     "output_type": "stream",
     "text": [
      "<class 'pandas.core.frame.DataFrame'>\n",
      "RangeIndex: 130 entries, 0 to 129\n",
      "Data columns (total 3 columns):\n",
      "temperature    130 non-null float64\n",
      "gender         130 non-null object\n",
      "heart_rate     130 non-null float64\n",
      "dtypes: float64(2), object(1)\n",
      "memory usage: 3.1+ KB\n"
     ]
    }
   ],
   "source": [
    "df = pd.read_csv('data/human_body_temperature.csv')\n",
    "df.info()"
   ]
  },
  {
   "cell_type": "code",
   "execution_count": 3,
   "metadata": {},
   "outputs": [
    {
     "data": {
      "text/html": [
       "<div>\n",
       "<style scoped>\n",
       "    .dataframe tbody tr th:only-of-type {\n",
       "        vertical-align: middle;\n",
       "    }\n",
       "\n",
       "    .dataframe tbody tr th {\n",
       "        vertical-align: top;\n",
       "    }\n",
       "\n",
       "    .dataframe thead th {\n",
       "        text-align: right;\n",
       "    }\n",
       "</style>\n",
       "<table border=\"1\" class=\"dataframe\">\n",
       "  <thead>\n",
       "    <tr style=\"text-align: right;\">\n",
       "      <th></th>\n",
       "      <th>temperature</th>\n",
       "      <th>heart_rate</th>\n",
       "    </tr>\n",
       "  </thead>\n",
       "  <tbody>\n",
       "    <tr>\n",
       "      <th>count</th>\n",
       "      <td>130.000000</td>\n",
       "      <td>130.000000</td>\n",
       "    </tr>\n",
       "    <tr>\n",
       "      <th>mean</th>\n",
       "      <td>98.249231</td>\n",
       "      <td>73.761538</td>\n",
       "    </tr>\n",
       "    <tr>\n",
       "      <th>std</th>\n",
       "      <td>0.733183</td>\n",
       "      <td>7.062077</td>\n",
       "    </tr>\n",
       "    <tr>\n",
       "      <th>min</th>\n",
       "      <td>96.300000</td>\n",
       "      <td>57.000000</td>\n",
       "    </tr>\n",
       "    <tr>\n",
       "      <th>25%</th>\n",
       "      <td>97.800000</td>\n",
       "      <td>69.000000</td>\n",
       "    </tr>\n",
       "    <tr>\n",
       "      <th>50%</th>\n",
       "      <td>98.300000</td>\n",
       "      <td>74.000000</td>\n",
       "    </tr>\n",
       "    <tr>\n",
       "      <th>75%</th>\n",
       "      <td>98.700000</td>\n",
       "      <td>79.000000</td>\n",
       "    </tr>\n",
       "    <tr>\n",
       "      <th>max</th>\n",
       "      <td>100.800000</td>\n",
       "      <td>89.000000</td>\n",
       "    </tr>\n",
       "  </tbody>\n",
       "</table>\n",
       "</div>"
      ],
      "text/plain": [
       "       temperature  heart_rate\n",
       "count   130.000000  130.000000\n",
       "mean     98.249231   73.761538\n",
       "std       0.733183    7.062077\n",
       "min      96.300000   57.000000\n",
       "25%      97.800000   69.000000\n",
       "50%      98.300000   74.000000\n",
       "75%      98.700000   79.000000\n",
       "max     100.800000   89.000000"
      ]
     },
     "execution_count": 3,
     "metadata": {},
     "output_type": "execute_result"
    }
   ],
   "source": [
    "df.describe()"
   ]
  },
  {
   "cell_type": "code",
   "execution_count": 4,
   "metadata": {},
   "outputs": [
    {
     "data": {
      "text/html": [
       "<div>\n",
       "<style scoped>\n",
       "    .dataframe tbody tr th:only-of-type {\n",
       "        vertical-align: middle;\n",
       "    }\n",
       "\n",
       "    .dataframe tbody tr th {\n",
       "        vertical-align: top;\n",
       "    }\n",
       "\n",
       "    .dataframe thead th {\n",
       "        text-align: right;\n",
       "    }\n",
       "</style>\n",
       "<table border=\"1\" class=\"dataframe\">\n",
       "  <thead>\n",
       "    <tr style=\"text-align: right;\">\n",
       "      <th></th>\n",
       "      <th>temperature</th>\n",
       "      <th>gender</th>\n",
       "      <th>heart_rate</th>\n",
       "    </tr>\n",
       "  </thead>\n",
       "  <tbody>\n",
       "    <tr>\n",
       "      <th>0</th>\n",
       "      <td>99.3</td>\n",
       "      <td>F</td>\n",
       "      <td>68.0</td>\n",
       "    </tr>\n",
       "    <tr>\n",
       "      <th>1</th>\n",
       "      <td>98.4</td>\n",
       "      <td>F</td>\n",
       "      <td>81.0</td>\n",
       "    </tr>\n",
       "    <tr>\n",
       "      <th>2</th>\n",
       "      <td>97.8</td>\n",
       "      <td>M</td>\n",
       "      <td>73.0</td>\n",
       "    </tr>\n",
       "    <tr>\n",
       "      <th>3</th>\n",
       "      <td>99.2</td>\n",
       "      <td>F</td>\n",
       "      <td>66.0</td>\n",
       "    </tr>\n",
       "    <tr>\n",
       "      <th>4</th>\n",
       "      <td>98.0</td>\n",
       "      <td>F</td>\n",
       "      <td>73.0</td>\n",
       "    </tr>\n",
       "  </tbody>\n",
       "</table>\n",
       "</div>"
      ],
      "text/plain": [
       "   temperature gender  heart_rate\n",
       "0         99.3      F        68.0\n",
       "1         98.4      F        81.0\n",
       "2         97.8      M        73.0\n",
       "3         99.2      F        66.0\n",
       "4         98.0      F        73.0"
      ]
     },
     "execution_count": 4,
     "metadata": {},
     "output_type": "execute_result"
    }
   ],
   "source": [
    "df.head()"
   ]
  },
  {
   "cell_type": "code",
   "execution_count": 5,
   "metadata": {},
   "outputs": [],
   "source": [
    "#Computing ECDF (Empirical cumulative distribution function)\n",
    "def ecdf(data):\n",
    "    \"\"\"Compute ECDF for a one-dimensional array of measurements.\"\"\"\n",
    "    # Number of data points: n\n",
    "    n = len(data)\n",
    "\n",
    "    # x-data for the ECDF: x\n",
    "    x = np.sort(data)\n",
    "\n",
    "    # y-data for the ECDF: y\n",
    "    y = np.arange(1, n+1) / n\n",
    "\n",
    "    return x, y"
   ]
  },
  {
   "cell_type": "markdown",
   "metadata": {},
   "source": [
    "#### Is the distribution of body temperatures normal?  \n",
    "#### Graphical Method\n",
    "\n",
    "Plotting the histogram and Cumulative Distribution Function (CDF) of the experimental data together with a theoretical generated normal distribution with the mean and STD of the experimental data, it is possible to determine visually if the experimental data actually follows a normal distribution.\n",
    "\n",
    "According to the graph below,  the experimental body temperature follows a normal distribution"
   ]
  },
  {
   "cell_type": "code",
   "execution_count": 6,
   "metadata": {},
   "outputs": [
    {
     "data": {
      "image/png": "[encoded data removed]",
      "text/plain": [
       "<Figure size 432x288 with 1 Axes>"
      ]
     },
     "metadata": {
      "needs_background": "light"
     },
     "output_type": "display_data"
    }
   ],
   "source": [
    "#Calculate Empirical cumulative distribution of Experimental data\n",
    "x, y= ecdf(df['temperature'])\n",
    "#Calculate Number of Bins for histogram\n",
    "bins1=round(len(df['temperature'])**(1/2))\n",
    "\n",
    "#Plot histogram and ECDF of experimental data\n",
    "_=plt.hist(df['temperature'], density=True, bins=bins1, histtype='step', color='red')\n",
    "_=plt.plot(x, y, color='red')\n",
    "\n",
    "#Generate theoretical normal distribution with mean and STD of experimental data\n",
    "mu=df['temperature'].mean()\n",
    "sigma=df['temperature'].std()\n",
    "the_normal=np.random.normal(loc=mu, scale=sigma, size=1000000)\n",
    "#Calculate Empirical cumulative distribution of theoretical data\n",
    "x_theo, y_theo= ecdf(the_normal)\n",
    "#Calculate Number of Bins for histogram\n",
    "bins2=round(len(the_normal)**(1/2))\n",
    "\n",
    "\n",
    "#Plot histogram and ECDF of theoretical data\n",
    "_=plt.hist(the_normal, density=True, bins=bins2, histtype='step', color='blue')\n",
    "_=plt.plot(x_theo, y_theo, color='blue')\n",
    "\n",
    "#Plot settings\n",
    "_=plt.xlabel('Temperature in Farenheits')\n",
    "_=plt.title('Body Temperature - Histogram and Cumulative Distribution Function')\n",
    "_=plt.legend(('Experimental', 'Theoretical'))\n",
    "plt.show()"
   ]
  },
  {
   "cell_type": "markdown",
   "metadata": {},
   "source": [
    "#### Is the sample size large? \n",
    "\n",
    "The sample size is big considered big enough if the following conditions are met:\n",
    "\n",
    "1. n*phat>=10 required to assume enough counts of success \n",
    "2. n*(1-phat)>=10 required to assume enough counts of failures\n",
    "\n",
    "n: Sample size\n",
    "phat:sample proportion\n",
    "\n",
    "\n",
    "In our sample of body temperature of 130 samples, phat(t=98.6) is aproximatly 0.6 according to the above histogram.\n",
    "Thus:\n",
    "130*0.6=78 --> n*phat>=10\n",
    "130*0.4= 52 --> n*(1-phat)>=10\n",
    "\n",
    "The conditions 1 and 2 are met, therefore it is considered that the sample size is large enough.\n",
    "\n",
    "\n",
    "#### Are the observations independent?\n",
    "\n",
    "n<=10% population is required to assume independent observations when there is not replacement\n",
    "\n",
    "In the case of body temperature data under study, the observations are considered independent because the population size is around 170millions of people in the world and the sample size is 130 people which is less than 10% of the population"
   ]
  },
  {
   "cell_type": "markdown",
   "metadata": {},
   "source": [
    "###  Is the true population mean really 98.6 degrees F?"
   ]
  },
  {
   "cell_type": "markdown",
   "metadata": {},
   "source": [
    "#### Bootstrap hypothesis test\n",
    "\n",
    "In order to test that the real population mean is 98.6 by using Boostrap hypothesis test:\n",
    "\n",
    "1.- Null hypotesis: population mean = 98.6 \n",
    "\n",
    "2.- Test statistics for this case is the mean\n",
    "\n",
    "3.- Generate many sets of simulated data assuming the null hypotesis is true\n",
    "    - Translate the sample data to have the population mean\n",
    "    - Generate boostrap replicates of the translated data and compute the test statistic for each data set\n",
    "\n",
    "4.- Calculate p-value which is the fraction of the simulated data sets for which the test statistics is at least as extreme as for the real data (observed data)\n",
    "\n",
    "It was obtained that the probability of obtaining a sample mean of 98.6 in case the null hypothesis is true is almost zero. It means the NULL hypothesis is not true\n",
    "\n",
    "\n",
    "**It is very unlikely that expected value of the body temperature is 98.6**"
   ]
  },
  {
   "cell_type": "code",
   "execution_count": 7,
   "metadata": {},
   "outputs": [],
   "source": [
    "#Generate one boostrap\n",
    "def bootstrap_replicate_1d(data, func):\n",
    "    return func(np.random.choice(data, size=len(data)))\n",
    "\n",
    "#generate meany boostrap replicates\t\n",
    "def draw_bs_reps(data, func, size=1):\n",
    "    \"\"\"Draw bootstrap replicates.\"\"\"\n",
    "\n",
    "    # Initialize array of replicates: bs_replicates\n",
    "    bs_replicates = np.empty(size)\n",
    "\n",
    "    # Generate replicates\n",
    "    for i in range(size):\n",
    "        bs_replicates[i] = bootstrap_replicate_1d(data,func)\n",
    "\n",
    "    return bs_replicates"
   ]
  },
  {
   "cell_type": "code",
   "execution_count": 21,
   "metadata": {},
   "outputs": [
    {
     "name": "stdout",
     "output_type": "stream",
     "text": [
      "test statistic observed =  98.24923076923078\n",
      "SEM  of real data =  0.06405661469519336\n",
      "standard deviation of bootstrap replicates =  0.06469918233645558\n",
      "p (test_statistic<= test_statistic_observed) =  0.0\n"
     ]
    },
    {
     "data": {
      "image/png": "[encoded data removed]",
      "text/plain": [
       "<Figure size 432x288 with 1 Axes>"
      ]
     },
     "metadata": {
      "needs_background": "light"
     },
     "output_type": "display_data"
    }
   ],
   "source": [
    "#Observed data\n",
    "data=df['temperature'].copy()\n",
    "test_statistic_observed=data.mean()\n",
    "print('test statistic observed = ',test_statistic_observed)\n",
    "\n",
    "#Translate data \n",
    "translated_data=data-data.mean()+98.6\n",
    "\n",
    "# Take 10,000 bootstrap replicates of the mean: bs_replicates\n",
    "size=10000\n",
    "bs_replicates = draw_bs_reps(translated_data, np.mean, size=size)\n",
    "bins=round(size**(1/2))\n",
    "\n",
    "# Compute and print SEM (standard error of the mean)\n",
    "sem = np.std(data) / np.sqrt(len(data))\n",
    "print('SEM  of real data = ', sem)\n",
    "\n",
    "# Compute and print standard deviation of bootstrap replicates\n",
    "bs_std = np.std(bs_replicates)\n",
    "print('standard deviation of bootstrap replicates = ',bs_std)\n",
    "\n",
    "# Make a histogram of the results\n",
    "_ = plt.hist(bs_replicates, bins=bins, density=True, color='red')\n",
    "_ = plt.axvline(x=test_statistic_observed, color='blue')\n",
    "_ = plt.xlabel('mean temperature (F)')\n",
    "_ = plt.ylabel('PDF')\n",
    "_ = plt.legend(('Empirical Observed mean', 'Simulation'), loc='upper left')\n",
    "\n",
    "\n",
    "# Compute fraction of replicates which t-statistic is at least as extreme \n",
    "#as for the real data: p\n",
    "p = np.sum(bs_replicates <= test_statistic_observed) / size\n",
    "\n",
    "\n",
    "# Print the p-value\n",
    "print('p (test_statistic<= test_statistic_observed) = ', p)\n",
    "\n",
    "# Show the plot\n",
    "plt.show()\n"
   ]
  },
  {
   "cell_type": "markdown",
   "metadata": {},
   "source": [
    "#### Frequentist statistical testing\n",
    "\n",
    "*It will be used t statistics instead Z statistics because the population mean is unknown*\n",
    "\n",
    "Check of conditions for t interval:\n",
    "\n",
    "1.- Random sampling\n",
    "\n",
    "2.- Central theorema limit indicates that the distribution of the sample mean would be normal regardless of the distribution of the data if the sample mean size is at least 30\n",
    "\n",
    "3.- sample size n<=10%population \n",
    "\n",
    "All the above conditions are met. Thus we can use t-statistics.\n",
    "\n"
   ]
  },
  {
   "cell_type": "code",
   "execution_count": 9,
   "metadata": {},
   "outputs": [
    {
     "name": "stdout",
     "output_type": "stream",
     "text": [
      "t_critical -2.614478679699783\n",
      "99.0 % confidence interval:  98.08175611581645 98.41670542264511\n"
     ]
    }
   ],
   "source": [
    "# Student t-distribution Percent Point Function\n",
    "from scipy.stats import t\n",
    "\n",
    "#Observed data\n",
    "#data=df['temperature'].copy()\n",
    "n=len(data)\n",
    "Xmean=data.mean()\n",
    "S=np.std(data)\n",
    "confidence_level=0.99\n",
    "dfreedom=n-1 #degree of freedom\n",
    "\n",
    "#--------------------------\n",
    "\n",
    "t_critical=t.ppf((1-confidence_level)/2, dfreedom)\n",
    "print('t_critical', t_critical)\n",
    "# Compute and print SEM (standard error of the mean)\n",
    "sem = np.std(data) / np.sqrt(len(data))\n",
    "\n",
    "value_1=Xmean+t_critical*sem\n",
    "value_2=Xmean-t_critical*sem\n",
    "\n",
    "print(confidence_level*100, '% confidence interval: ',value_1, value_2 )"
   ]
  },
  {
   "cell_type": "markdown",
   "metadata": {},
   "source": [
    "*the frequency statistic testing also indicate that 98.6 is out of the 99% confience interval*\n"
   ]
  },
  {
   "cell_type": "markdown",
   "metadata": {},
   "source": [
    " #### what temperature should we consider someone's temperature to be \"abnormal\"?\n",
    " \n",
    " The abnormal temperature should be those that are out of the 99% confidence interval calculated with the t_critical. Nevertheless, it will be simulated with boostraps below for verification purposes.\n",
    " \n",
    " Abnormal temperatures: 98.08>body temperatures >98.42"
   ]
  },
  {
   "cell_type": "code",
   "execution_count": 20,
   "metadata": {},
   "outputs": [
    {
     "name": "stdout",
     "output_type": "stream",
     "text": [
      "test statistic observed =  98.24923076923078\n",
      "SEM  of real data =  0.06405661469519336\n",
      "standard deviation of bootstrap replicates =  0.06389467757093308\n",
      "confidence interval of bootstrap replicates =  [98.08769231 98.41462308]\n"
     ]
    },
    {
     "data": {
      "image/png": "[encoded data removed]",
      "text/plain": [
       "<Figure size 432x288 with 1 Axes>"
      ]
     },
     "metadata": {
      "needs_background": "light"
     },
     "output_type": "display_data"
    }
   ],
   "source": [
    "#Observed data\n",
    "test_statistic_observed=data.mean()\n",
    "print('test statistic observed = ',test_statistic_observed)\n",
    "\n",
    "\n",
    "# Take 10,000 bootstrap replicates of the mean: bs_replicates\n",
    "size=10000\n",
    "bs_replicates = draw_bs_reps(data, np.mean, size=size)\n",
    "bins=round(size**(1/2))\n",
    "\n",
    "# Compute and print SEM (standard error of the mean)\n",
    "sem = np.std(data) / np.sqrt(len(data))\n",
    "print('SEM  of real data = ', sem)\n",
    "\n",
    "# Compute and print standard deviation of bootstrap replicates\n",
    "bs_std = np.std(bs_replicates)\n",
    "print('standard deviation of bootstrap replicates = ',bs_std)\n",
    "\n",
    "#confidence intervalo of 99%\n",
    "percentiles=np.percentile(bs_replicates,[0.5,99.5])\n",
    "print('confidence interval of bootstrap replicates = ',percentiles)\n",
    "\n",
    "# Make a histogram of the results\n",
    "_ = plt.hist(bs_replicates, bins=bins, density=True, color='red')\n",
    "_ = plt.axvline(x=percentiles[0], color='blue')\n",
    "_ = plt.axvline(x=percentiles[1], color='blue')\n",
    "_ = plt.xlabel('mean temperature (F)')\n",
    "_ = plt.ylabel('PDF')\n",
    "_ = plt.legend(('99% confidence interval','' ,'Simulation'), loc='upper left')\n",
    "\n",
    "\n",
    "\n",
    "# Show the plot\n",
    "plt.show()"
   ]
  },
  {
   "cell_type": "markdown",
   "metadata": {},
   "source": [
    "\n",
    "#### Is there a significant difference between males and females in normal temperature?\n",
    "\n",
    "1.- Null hypotesis: there is not a significant difference\n",
    "\n",
    "2.- Test statistics for this case is the empirical mean difference between male and female body temperatures\n",
    "\n",
    "3.- Generate many sets of simulated data assuming the null hypotesis is true\n",
    "    - Generate boostrap replicates by permutations of  the two data sets (Female and Male)\n",
    "    - Compute the test statistic for each data set\n",
    "\n",
    "4.- Calculate p-value which is the fraction of the simulated data sets for which the test statistics is at least as extreme as for the real data (observed data)\n",
    "\n",
    "We got a p-value of 0.0117, which suggests that there is not a statistically significant difference.\n",
    "\n"
   ]
  },
  {
   "cell_type": "code",
   "execution_count": 11,
   "metadata": {},
   "outputs": [],
   "source": [
    "#Generating a permutable sample\n",
    "\n",
    "def permutation_sample(data1, data2):\n",
    "    \"\"\"Generate a permutation sample from two data sets.\"\"\"\n",
    "\n",
    "    # Concatenate the data sets: data\n",
    "    data = np.concatenate((data1, data2))\n",
    "\n",
    "    # Permute the concatenated array: permuted_data\n",
    "    permuted_data = np.random.permutation(data)\n",
    "\n",
    "    # Split the permuted array into two: perm_sample_1, perm_sample_2\n",
    "    perm_sample_1 = permuted_data[:len(data1)]\n",
    "    perm_sample_2 = permuted_data[len(data1):]\n",
    "\n",
    "    return perm_sample_1, perm_sample_2"
   ]
  },
  {
   "cell_type": "code",
   "execution_count": 12,
   "metadata": {},
   "outputs": [],
   "source": [
    "#Generating permutation replicates\n",
    "\n",
    "def draw_perm_reps(data_1, data_2, func, size=1):\n",
    "    \"\"\"Generate multiple permutation replicates.\"\"\"\n",
    "\n",
    "    # Initialize array of replicates: perm_replicates\n",
    "    perm_replicates = np.empty(size)\n",
    "\n",
    "    for i in range(size):\n",
    "        # Generate permutation sample\n",
    "        perm_sample_1, perm_sample_2 = permutation_sample(data_1, data_2)\n",
    "\n",
    "        # Compute the test statistic\n",
    "        perm_replicates[i] = func(perm_sample_1, perm_sample_2)\n",
    "    return perm_replicates"
   ]
  },
  {
   "cell_type": "code",
   "execution_count": 13,
   "metadata": {},
   "outputs": [],
   "source": [
    "def diff_of_means(data_1, data_2):\n",
    "    \"\"\"Difference in means of two arrays.\"\"\"\n",
    "\n",
    "    # The difference of means of data_1, data_2: diff\n",
    "    diff = data_1.mean()-data_2.mean()\n",
    "\n",
    "    return diff"
   ]
  },
  {
   "cell_type": "code",
   "execution_count": 14,
   "metadata": {},
   "outputs": [],
   "source": [
    "data_F=df[df['gender']=='F']['temperature']\n",
    "data_M=df[df['gender']=='M']['temperature']"
   ]
  },
  {
   "cell_type": "code",
   "execution_count": 15,
   "metadata": {},
   "outputs": [
    {
     "name": "stdout",
     "output_type": "stream",
     "text": [
      "p-value = 0.0128\n"
     ]
    },
    {
     "data": {
      "image/png": "[encoded data removed]",
      "text/plain": [
       "<Figure size 432x288 with 1 Axes>"
      ]
     },
     "metadata": {
      "needs_background": "light"
     },
     "output_type": "display_data"
    }
   ],
   "source": [
    "# Compute difference of mean female and male body temperatures from experiment: empirical_diff_means\n",
    "test_statistic_observed = diff_of_means(data_F, data_M)\n",
    "\n",
    "# Draw 10,000 permutation replicates: perm_replicates\n",
    "perm_replicates = draw_perm_reps(data_F, data_M,\n",
    "                                 diff_of_means, size=10000)\n",
    "\n",
    "# Compute p-value: p\n",
    "p = np.sum(perm_replicates >= test_statistic_observed) / len(perm_replicates)\n",
    "\n",
    "# Make a histogram of the results\n",
    "_ = plt.hist(perm_replicates, bins=bins, density=True, color='red')\n",
    "_ = plt.axvline(x=test_statistic_observed, color='blue')\n",
    "_ = plt.xlabel('mean temperature (F)')\n",
    "_ = plt.ylabel('PDF')\n",
    "_ = plt.legend(('Empirical Observed diference', 'Simulation'), loc='upper left')\n",
    "\n",
    "\n",
    "# Print the result\n",
    "print('p-value =', p)"
   ]
  },
  {
   "cell_type": "markdown",
   "metadata": {},
   "source": [
    "We got a p-value of 0.0117, which suggests that there is not a statistically significant difference between female and male body temperatures"
   ]
  },
  {
   "cell_type": "markdown",
   "metadata": {},
   "source": [
    "#### Conclusions:\n",
    "    "
   ]
  },
  {
   "cell_type": "markdown",
   "metadata": {},
   "source": [
    "There is significant statistical evidence that the mean normal body temperature today differs from the mean normal body temperature of 98.6$^{\\circ}$F conceptualized more than 120 years ago by Carl Wunderlich.\n",
    "According to the data the normal mean body temperature has a 99% confidence interval of [98.08, 98.41]$^ {\\circ}$F  beeing 98.6$^ {\\circ}$F out of the confidence interval. \n",
    "Also, there is not statistical significant difference between female and male body temperatures.\n",
    "\n",
    "Further abalysis shall be done to study how the mean normal body temperature has changed over the last 120 years\n",
    "\n"
   ]
  },
  {
   "cell_type": "markdown",
   "metadata": {},
   "source": [
    "__________________________________________________________________________\n",
    "<h3>Exercises</h3>\n",
    "\n",
    "<p>In this exercise, you will analyze a dataset of human body temperatures and employ the concepts of hypothesis testing, confidence intervals, and statistical significance.</p>\n",
    "\n",
    "<p>Answer the following questions <b>in this notebook below and submit to your Github account</b>.</p> \n",
    "\n",
    "<ol>\n",
    "<li>  Is the distribution of body temperatures normal? \n",
    "    <ul>\n",
    "    <li> Although this is not a requirement for the Central Limit Theorem to hold (read the introduction on Wikipedia's page about the CLT carefully: https://en.wikipedia.org/wiki/Central_limit_theorem), it gives us some peace of mind that the population may also be normally distributed if we assume that this sample is representative of the population.\n",
    "    <li> Think about the way you're going to check for the normality of the distribution. Graphical methods are usually used first, but there are also other ways: https://en.wikipedia.org/wiki/Normality_test\n",
    "    </ul>\n",
    "<li>  Is the sample size large? Are the observations independent?\n",
    "    <ul>\n",
    "    <li> Remember that this is a condition for the Central Limit Theorem, and hence the statistical tests we are using, to apply.\n",
    "    </ul>\n",
    "<li>  Is the true population mean really 98.6 degrees F?\n",
    "    <ul>\n",
    "    <li> First, try a bootstrap hypothesis test.\n",
    "    <li> Now, let's try frequentist statistical testing. Would you use a one-sample or two-sample test? Why?\n",
    "    <li> In this situation, is it appropriate to use the $t$ or $z$ statistic? \n",
    "    <li> Now try using the other test. How is the result be different? Why?\n",
    "    </ul>\n",
    "<li>  Draw a small sample of size 10 from the data and repeat both frequentist tests. \n",
    "    <ul>\n",
    "    <li> Which one is the correct one to use? \n",
    "    <li> What do you notice? What does this tell you about the difference in application of the $t$ and $z$ statistic?\n",
    "    </ul>\n",
    "<li>  At what temperature should we consider someone's temperature to be \"abnormal\"?\n",
    "    <ul>\n",
    "    <li> As in the previous example, try calculating everything using the boostrap approach, as well as the frequentist approach.\n",
    "    <li> Start by computing the margin of error and confidence interval. When calculating the confidence interval, keep in mind that you should use the appropriate formula for one draw, and not N draws.\n",
    "    </ul>\n",
    "<li>  Is there a significant difference between males and females in normal temperature?\n",
    "    <ul>\n",
    "    <li> What testing approach did you use and why?\n",
    "    <li> Write a story with your conclusion in the context of the original problem.\n",
    "    </ul>\n",
    "</ol>\n",
    "\n",
    "You can include written notes in notebook cells using Markdown: \n",
    "   - In the control panel at the top, choose Cell > Cell Type > Markdown\n",
    "   - Markdown syntax: http://nestacms.com/docs/creating-content/markdown-cheat-sheet\n",
    "\n",
    "#### Resources\n",
    "\n",
    "+ Information and data sources: http://www.amstat.org/publications/jse/datasets/normtemp.txt, http://www.amstat.org/publications/jse/jse_data_archive.htm\n",
    "+ Markdown syntax: http://nestacms.com/docs/creating-content/markdown-cheat-sheet\n",
    "\n",
    "****"
   ]
  },
  {
   "cell_type": "code",
   "execution_count": null,
   "metadata": {},
   "outputs": [],
   "source": []
  }
 ],
 "metadata": {
  "kernelspec": {
   "display_name": "Python 3",
   "language": "python",
   "name": "python3"
  },
  "language_info": {
   "codemirror_mode": {
    "name": "ipython",
    "version": 3
   },
   "file_extension": ".py",
   "mimetype": "text/x-python",
   "name": "python",
   "nbconvert_exporter": "python",
   "pygments_lexer": "ipython3",
   "version": "3.7.1"
  }
 },
 "nbformat": 4,
 "nbformat_minor": 1
}
